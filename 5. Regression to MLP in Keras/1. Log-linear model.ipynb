{
 "cells": [
  {
   "cell_type": "code",
   "execution_count": 15,
   "metadata": {},
   "outputs": [
    {
     "ename": "AttributeError",
     "evalue": "'function' object has no attribute 'data'",
     "output_type": "error",
     "traceback": [
      "\u001b[1;31m---------------------------------------------------------------------------\u001b[0m",
      "\u001b[1;31mAttributeError\u001b[0m                            Traceback (most recent call last)",
      "\u001b[1;32mc:\\Users\\earls\\Documents\\Learning-Go\\5. Regression to MLP in Keras\\1. Log-linear model.ipynb Cell 1\u001b[0m line \u001b[0;36m1\n\u001b[0;32m     <a href='vscode-notebook-cell:/c%3A/Users/earls/Documents/Learning-Go/5.%20Regression%20to%20MLP%20in%20Keras/1.%20Log-linear%20model.ipynb#W0sZmlsZQ%3D%3D?line=11'>12</a>\u001b[0m iris \u001b[39m=\u001b[39m load_iris\n\u001b[0;32m     <a href='vscode-notebook-cell:/c%3A/Users/earls/Documents/Learning-Go/5.%20Regression%20to%20MLP%20in%20Keras/1.%20Log-linear%20model.ipynb#W0sZmlsZQ%3D%3D?line=13'>14</a>\u001b[0m \u001b[39m# Iris dataset has 5 attributes. Use 4 attributes to predict the species\u001b[39;00m\n\u001b[1;32m---> <a href='vscode-notebook-cell:/c%3A/Users/earls/Documents/Learning-Go/5.%20Regression%20to%20MLP%20in%20Keras/1.%20Log-linear%20model.ipynb#W0sZmlsZQ%3D%3D?line=14'>15</a>\u001b[0m X, y \u001b[39m=\u001b[39m iris\u001b[39m.\u001b[39;49mdata[:, :\u001b[39m4\u001b[39m], iris\u001b[39m.\u001b[39mtarget\n",
      "\u001b[1;31mAttributeError\u001b[0m: 'function' object has no attribute 'data'"
     ]
    }
   ],
   "source": [
    "from sklearn.datasets import load_iris\n",
    "from sklearn.model_selection import train_test_split\n",
    "# use sklearn.model_selection in place of from sklear.cross_validation etc\n",
    "from sklearn.linear_model import LogisticRegressionCV\n",
    "from sklearn.linear_model import LogisticRegression\n",
    "import numpy as np\n",
    "import matplotlib.pyplot as plt\n",
    "from keras.models import Sequential\n",
    "from keras.layers import Dense, Activation\n",
    "\n",
    "# Load the iris dataset from seaborn\n",
    "iris = load_iris\n",
    "\n",
    "# Iris dataset has 5 attributes. Use 4 attributes to predict the species\n",
    "X, y = iris.data[:, :4], iris.target"
   ]
  }
 ],
 "metadata": {
  "kernelspec": {
   "display_name": "Python 3",
   "language": "python",
   "name": "python3"
  },
  "language_info": {
   "codemirror_mode": {
    "name": "ipython",
    "version": 3
   },
   "file_extension": ".py",
   "mimetype": "text/x-python",
   "name": "python",
   "nbconvert_exporter": "python",
   "pygments_lexer": "ipython3",
   "version": "3.11.6"
  }
 },
 "nbformat": 4,
 "nbformat_minor": 2
}
