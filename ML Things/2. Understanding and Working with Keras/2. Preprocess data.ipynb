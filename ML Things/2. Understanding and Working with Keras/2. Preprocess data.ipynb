{
 "cells": [
  {
   "cell_type": "code",
   "execution_count": null,
   "metadata": {},
   "outputs": [],
   "source": [
    "# Second step is to preprocess the data\n",
    "# flatten the data, MLP doesn't use the 2D Structure of the data, 3072 = 3*32*32\n"
   ]
  }
 ],
 "metadata": {
  "language_info": {
   "name": "python"
  },
  "orig_nbformat": 4
 },
 "nbformat": 4,
 "nbformat_minor": 2
}
