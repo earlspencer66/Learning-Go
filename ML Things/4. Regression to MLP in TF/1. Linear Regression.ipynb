{
 "cells": [
  {
   "cell_type": "code",
   "execution_count": 1,
   "metadata": {},
   "outputs": [
    {
     "ename": "ModuleNotFoundError",
     "evalue": "No module named 'sklearn'",
     "output_type": "error",
     "traceback": [
      "\u001b[1;31m---------------------------------------------------------------------------\u001b[0m",
      "\u001b[1;31mModuleNotFoundError\u001b[0m                       Traceback (most recent call last)",
      "\u001b[1;32mc:\\Users\\earls\\Documents\\Learning-Go\\4. Regression to MLP in TF\\1. Linear Regression.ipynb Cell 1\u001b[0m line \u001b[0;36m6\n\u001b[0;32m      <a href='vscode-notebook-cell:/c%3A/Users/earls/Documents/Learning-Go/4.%20Regression%20to%20MLP%20in%20TF/1.%20Linear%20Regression.ipynb#W0sZmlsZQ%3D%3D?line=3'>4</a>\u001b[0m \u001b[39mimport\u001b[39;00m \u001b[39mmatplotlib\u001b[39;00m\u001b[39m.\u001b[39;00m\u001b[39mpyplot\u001b[39;00m \u001b[39mas\u001b[39;00m \u001b[39mplt\u001b[39;00m\n\u001b[0;32m      <a href='vscode-notebook-cell:/c%3A/Users/earls/Documents/Learning-Go/4.%20Regression%20to%20MLP%20in%20TF/1.%20Linear%20Regression.ipynb#W0sZmlsZQ%3D%3D?line=4'>5</a>\u001b[0m \u001b[39mimport\u001b[39;00m \u001b[39mtensorflow\u001b[39;00m \u001b[39mas\u001b[39;00m \u001b[39mtf\u001b[39;00m\n\u001b[1;32m----> <a href='vscode-notebook-cell:/c%3A/Users/earls/Documents/Learning-Go/4.%20Regression%20to%20MLP%20in%20TF/1.%20Linear%20Regression.ipynb#W0sZmlsZQ%3D%3D?line=5'>6</a>\u001b[0m \u001b[39mfrom\u001b[39;00m \u001b[39msklearn\u001b[39;00m \u001b[39mimport\u001b[39;00m datasets\n\u001b[0;32m      <a href='vscode-notebook-cell:/c%3A/Users/earls/Documents/Learning-Go/4.%20Regression%20to%20MLP%20in%20TF/1.%20Linear%20Regression.ipynb#W0sZmlsZQ%3D%3D?line=6'>7</a>\u001b[0m \u001b[39mimport\u001b[39;00m \u001b[39mnumpy\u001b[39;00m \u001b[39mas\u001b[39;00m \u001b[39mnp\u001b[39;00m\n\u001b[0;32m      <a href='vscode-notebook-cell:/c%3A/Users/earls/Documents/Learning-Go/4.%20Regression%20to%20MLP%20in%20TF/1.%20Linear%20Regression.ipynb#W0sZmlsZQ%3D%3D?line=7'>8</a>\u001b[0m \u001b[39mfrom\u001b[39;00m \u001b[39msklearn\u001b[39;00m\u001b[39m.\u001b[39;00m\u001b[39mmodel_selection\u001b[39;00m \u001b[39mimport\u001b[39;00m train_test_split\n",
      "\u001b[1;31mModuleNotFoundError\u001b[0m: No module named 'sklearn'"
     ]
    }
   ],
   "source": [
    "# linear regression to predict petal length given the sepal length\n",
    "# sepal length --- input ---- X\n",
    "# petal length --- output ---- Y\n",
    "import matplotlib.pyplot as plt\n",
    "import tensorflow as tf\n",
    "from sklearn import datasets\n",
    "import numpy as np\n",
    "from sklearn.model_selection import train_test_split\n",
    "from matplotlib import pyplot\n",
    "\n",
    "# 1, Load the data\n",
    "# We are using the Iris dataset\n",
    "# iris.data = [(Sepal Length, Sepal Width, Petal Length, Petal Width)]\n",
    "iris = datasets.load_iris()\n",
    "\n",
    "predictors_vals = np.array([predictors[0]] for predictors in iris.data)\n",
    "target_vals = np.array([predictors[2]] for predictors in iris.data)\n",
    "\n",
    "# 2. Split data into test and train 80% - 20%\n",
    "# splits a dataset into training and test sets with a test size of 20%\n",
    "X, y = tf.keras.datasets.mnist.load_data()\n",
    "\n",
    "X_train, X_test, y_train, y_test = train_test_split(X, y, test_size=0.2)\n",
    "\n",
    "# 3. Normalize if needed\n",
    "\n",
    "# 4. Initialize placeholders that will contain predictors and target\n",
    "tf.compat.v1.disable_eager_execution()\n",
    "predictor = tf.compat.v1.placeholder(shape=[None, 1], dtype=tf.float32)\n",
    "target = tf.compat.v1.placeholder(shape=[None, 1], dtype=tf.float32)\n",
    "\n",
    "# 5. Create variables that will be tuned up i.e. W and b\n",
    "A = tf.compat.v1.Variable(tf.zeros(shape=[1,1]))\n",
    "b = tf.compat.v1.Variable(tf.ones(shape=[1,1]))\n",
    "\n",
    "# 6. Declare model Operations: Ax + b\n",
    "model_output = tf.add(tf.matmul(predictor, A), b)\n",
    "\n",
    "# 7. Declare loss function and otpimizer\n",
    "# declare loss function (L1 Loss)\n",
    "loss = tf.reduce_mean(tf.abs(target - model_output))\n",
    "\n",
    "# Declare optimizer\n",
    "my_opt = tf.compat.v1.train.GradientDescentOptimizer(0.01)\n",
    "# can use Adam optimizer\n",
    "# my_opt = tf.train.AdamOptimizer(0.01)\n",
    "train_step = my_opt.minimize(loss)\n",
    "\n",
    "# 9. Fit model by using Training loops\n",
    "# Training loop\n",
    "lossArray = []\n",
    "batch_size = 40\n",
    "\n",
    "#for i in range (200):\n",
    "#    rand_rows = np.random.randint(0, len(X_train)-1, size = batch_size)\n",
    "\n",
    "### TO BE CONTINUED PAGE 72"
   ]
  }
 ],
 "metadata": {
  "kernelspec": {
   "display_name": "Python 3",
   "language": "python",
   "name": "python3"
  },
  "language_info": {
   "codemirror_mode": {
    "name": "ipython",
    "version": 3
   },
   "file_extension": ".py",
   "mimetype": "text/x-python",
   "name": "python",
   "nbconvert_exporter": "python",
   "pygments_lexer": "ipython3",
   "version": "3.11.6"
  },
  "orig_nbformat": 4
 },
 "nbformat": 4,
 "nbformat_minor": 2
}
