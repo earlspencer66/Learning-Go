{
 "cells": [
  {
   "cell_type": "code",
   "execution_count": 28,
   "metadata": {},
   "outputs": [],
   "source": [
    "# Used for classification\n",
    "# Have sepel length and sepal with, we are to predict the target value i.e. the sepal species\n",
    "# Logistic Regression in Tensorflow\n",
    "import numpy as np\n",
    "import tensorflow as tf\n",
    "from sklearn import datasets\n",
    "import pandas as pd\n",
    "from sklearn.model_selection import train_test_split\n",
    "from matplotlib import pyplot\n",
    "\n",
    "# 1. Loading data\n",
    "iris = datasets.load_iris()\n",
    "# predictors two columns - sepal length and sepal width\n",
    "predictors_vals = np.array([predictors[0:2]] for predictors in iris.data)\n",
    "# for Setosa species, target is 0.\n",
    "target_vals = np.array([1. if predictors == 0 else 0. for predictors in iris.target])\n"
   ]
  },
  {
   "cell_type": "code",
   "execution_count": 29,
   "metadata": {},
   "outputs": [],
   "source": [
    "# 2. Split the data into train/test 75% and 25%\n",
    "predictors_vals, target_vals = tf.keras.datasets.mnist.load_data()\n",
    "\n",
    "predictors_vals_train, predictors_vals_test, target_vals_train, target_vals_test = train_test_split(predictors_vals, target_vals, train_size=0.75, random_state=0)\n",
    "\n"
   ]
  },
  {
   "cell_type": "code",
   "execution_count": 30,
   "metadata": {},
   "outputs": [],
   "source": [
    "# 3. Normalize if needed\n",
    "# 4. Initialize placeholders that will contain predictors and targets\n",
    "tf.compat.v1.disable_eager_execution()\n",
    "x_data = tf.compat.v1.placeholder(shape = [None, 2], dtype=tf.float32)\n",
    "y_target = tf.compat.v1.placeholder(shape=[None, 1], dtype=tf.float32)\n"
   ]
  },
  {
   "cell_type": "code",
   "execution_count": 31,
   "metadata": {},
   "outputs": [],
   "source": [
    "# 5. Create variables, Weights and biases that will be tuned up\n",
    "W = tf.compat.v1.Variable(tf.compat.v1.ones(shape=[2,1]))\n",
    "b = tf.compat.v1.Variable(tf.compat.v1.ones(shape=[1,1]))"
   ]
  },
  {
   "cell_type": "code",
   "execution_count": 32,
   "metadata": {},
   "outputs": [],
   "source": [
    "# 6. Declare the model operations : y = xW + b\n",
    "model = tf.compat.v1.add(tf.matmul(x_data, W), b)"
   ]
  },
  {
   "cell_type": "code",
   "execution_count": 33,
   "metadata": {},
   "outputs": [],
   "source": [
    "# 7. Declare loss function and Optimizer\n",
    "loss = tf.compat.v1.reduce_mean(tf.nn.sigmoid_cross_entropy_with_logits(logits=model, labels=y_target))\n",
    "my_opt = tf.compat.v1.train.AdamOptimizer(0.02) # learning rate = 0.02\n",
    "train_step = my_opt.minimize(loss)"
   ]
  },
  {
   "cell_type": "code",
   "execution_count": 34,
   "metadata": {},
   "outputs": [],
   "source": [
    "# 8. Initialize variables and session\n",
    "init = tf.compat.v1.global_variables_initializer()\n",
    "sess = tf.compat.v1.Session()\n",
    "sess.run(init)"
   ]
  },
  {
   "cell_type": "code",
   "execution_count": 35,
   "metadata": {},
   "outputs": [],
   "source": [
    "# 9. Actual Prediction\n",
    "prediction = tf.round(tf.sigmoid(model))\n",
    "predictions_correct = tf.cast(tf.equal(prediction, y_target), tf.float32)\n",
    "accuracy = tf.reduce_mean(predictions_correct)"
   ]
  },
  {
   "cell_type": "code",
   "execution_count": 62,
   "metadata": {},
   "outputs": [
    {
     "ename": "TypeError",
     "evalue": "only integer scalar arrays can be converted to a scalar index",
     "output_type": "error",
     "traceback": [
      "\u001b[1;31m---------------------------------------------------------------------------\u001b[0m",
      "\u001b[1;31mTypeError\u001b[0m                                 Traceback (most recent call last)",
      "\u001b[1;32mc:\\Users\\earls\\OneDrive\\Documents\\GitHub\\Learning-Go\\4. Regression to MLP in TF\\2. Logistic Regression.ipynb Cell 9\u001b[0m line \u001b[0;36m1\n\u001b[0;32m      <a href='vscode-notebook-cell:/c%3A/Users/earls/OneDrive/Documents/GitHub/Learning-Go/4.%20Regression%20to%20MLP%20in%20TF/2.%20Logistic%20Regression.ipynb#X11sZmlsZQ%3D%3D?line=8'>9</a>\u001b[0m batchIndex \u001b[39m=\u001b[39m np\u001b[39m.\u001b[39mrandom\u001b[39m.\u001b[39mchoice(\u001b[39mlen\u001b[39m(predictors_vals_train), size \u001b[39m=\u001b[39m batch_size)\n\u001b[0;32m     <a href='vscode-notebook-cell:/c%3A/Users/earls/OneDrive/Documents/GitHub/Learning-Go/4.%20Regression%20to%20MLP%20in%20TF/2.%20Logistic%20Regression.ipynb#X11sZmlsZQ%3D%3D?line=9'>10</a>\u001b[0m batchIndex \u001b[39m=\u001b[39m np\u001b[39m.\u001b[39marray(batchIndex)\n\u001b[1;32m---> <a href='vscode-notebook-cell:/c%3A/Users/earls/OneDrive/Documents/GitHub/Learning-Go/4.%20Regression%20to%20MLP%20in%20TF/2.%20Logistic%20Regression.ipynb#X11sZmlsZQ%3D%3D?line=10'>11</a>\u001b[0m batchX \u001b[39m=\u001b[39m predictors_vals_train[(batchIndex)]\n\u001b[0;32m     <a href='vscode-notebook-cell:/c%3A/Users/earls/OneDrive/Documents/GitHub/Learning-Go/4.%20Regression%20to%20MLP%20in%20TF/2.%20Logistic%20Regression.ipynb#X11sZmlsZQ%3D%3D?line=11'>12</a>\u001b[0m \u001b[39m#batchY = np.transpose([target_vals_train[batchIndex]])\u001b[39;00m\n",
      "\u001b[1;31mTypeError\u001b[0m: only integer scalar arrays can be converted to a scalar index"
     ]
    }
   ],
   "source": [
    "# 10. Training loop\n",
    "lossArray = []\n",
    "trainAccuracy = []\n",
    "testAccuracy = []\n",
    "\n",
    "for i in range(1000):\n",
    "    #random instances for batch sizes\n",
    "    batch_size = 4 # declare the batch size\n",
    "    batchIndex = np.random.choice(len(predictors_vals_train), size = batch_size)\n",
    "    batchIndex = np.array(batchIndex)\n",
    "    batchX = predictors_vals_train[(batchIndex)]\n",
    "    #batchY = np.transpose([target_vals_train[batchIndex]])"
   ]
  }
 ],
 "metadata": {
  "kernelspec": {
   "display_name": "Python 3",
   "language": "python",
   "name": "python3"
  },
  "language_info": {
   "codemirror_mode": {
    "name": "ipython",
    "version": 3
   },
   "file_extension": ".py",
   "mimetype": "text/x-python",
   "name": "python",
   "nbconvert_exporter": "python",
   "pygments_lexer": "ipython3",
   "version": "3.11.4"
  },
  "orig_nbformat": 4
 },
 "nbformat": 4,
 "nbformat_minor": 2
}
