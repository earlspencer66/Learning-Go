{
 "cells": [
  {
   "cell_type": "code",
   "execution_count": 1,
   "metadata": {},
   "outputs": [
    {
     "name": "stdout",
     "output_type": "stream",
     "text": [
      "[[ 3.2250142 14.447119  15.121284 ]\n",
      " [ 6.6844916 15.313656   5.935786 ]]\n"
     ]
    }
   ],
   "source": [
    "# tf.random_uniform generates random values from uniform distribution\n",
    "#within a range.\n",
    "\n",
    "import tensorflow as tf\n",
    "tf.compat.v1.disable_eager_execution() # need to disable eager in TF2.x\n",
    "\n",
    "sess = tf.compat.v1.Session()\n",
    "\n",
    "R1 = tf.compat.v1.random_uniform([2,3], minval=0, maxval=20)\n",
    "print(sess.run(R1))\n"
   ]
  },
  {
   "cell_type": "code",
   "execution_count": 2,
   "metadata": {},
   "outputs": [
    {
     "name": "stdout",
     "output_type": "stream",
     "text": [
      "[[9.566173  4.011744  6.9189935]\n",
      " [4.9480066 5.389027  1.7451015]]\n"
     ]
    }
   ],
   "source": [
    "# tf.random_normal generates random values from the normal\n",
    "# distribution having the specified mean and standard deviation.\n",
    "R2 = tf.compat.v1.random_normal([2,3], mean=5, stddev=4)\n",
    "print(sess.run(R2))"
   ]
  },
  {
   "cell_type": "code",
   "execution_count": 3,
   "metadata": {},
   "outputs": [
    {
     "name": "stdout",
     "output_type": "stream",
     "text": [
      "[[0 2 0]\n",
      " [0 0 1]\n",
      " [3 0 0]]\n"
     ]
    }
   ],
   "source": [
    "# tf.random_shuffle helps us to shuffle the values in the tensor each time\n",
    "R3 = tf.compat.v1.random_shuffle(tf.compat.v1.diag([3,2,1]))\n",
    "print(sess.run(R3))"
   ]
  },
  {
   "cell_type": "code",
   "execution_count": 4,
   "metadata": {},
   "outputs": [
    {
     "name": "stdout",
     "output_type": "stream",
     "text": [
      "[[0 2 0]\n",
      " [3 0 0]\n",
      " [0 0 1]]\n"
     ]
    }
   ],
   "source": [
    "# tf.crop\n",
    "R4 = tf.compat.v1.random_crop(tf.compat.v1.diag([3,-2,1]), [3,2])\n",
    "print(sess.run(R3))"
   ]
  }
 ],
 "metadata": {
  "kernelspec": {
   "display_name": "Python 3",
   "language": "python",
   "name": "python3"
  },
  "language_info": {
   "codemirror_mode": {
    "name": "ipython",
    "version": 3
   },
   "file_extension": ".py",
   "mimetype": "text/x-python",
   "name": "python",
   "nbconvert_exporter": "python",
   "pygments_lexer": "ipython3",
   "version": "3.11.4"
  },
  "orig_nbformat": 4
 },
 "nbformat": 4,
 "nbformat_minor": 2
}
