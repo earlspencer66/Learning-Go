{
 "cells": [
  {
   "cell_type": "code",
   "execution_count": 12,
   "metadata": {},
   "outputs": [
    {
     "name": "stdout",
     "output_type": "stream",
     "text": [
      "Start running at  x: 3.0 log(x)^2: 1.206949\n",
      "Start running at  x: 2.4873142 log(x)^2: 0.8302918\n",
      "Start running at  x: 1.9744377 log(x)^2: 0.46278587\n",
      "Start running at  x: 1.492074 log(x)^2: 0.16013372\n",
      "Start running at  x: 1.1166008 log(x)^2: 0.01216367\n",
      "Start running at  x: 0.97831976 log(x)^2: 0.00048042962\n",
      "Start running at  x: 1.009686 log(x)^2: 9.2917726e-05\n",
      "Start running at  x: 0.9963203 log(x)^2: 1.3590131e-05\n",
      "Start running at  x: 1.0015005 log(x)^2: 2.2480888e-06\n",
      "Start running at  x: 0.99940455 log(x)^2: 3.5477242e-07\n",
      "Start running at  x: 1.0002389 log(x)^2: 5.7057385e-08\n",
      "Start running at  x: 0.9999046 log(x)^2: 9.107189e-09\n",
      "Start running at  x: 1.0000381 log(x)^2: 1.455136e-09\n",
      "Start running at  x: 0.99998474 log(x)^2: 2.328342e-10\n",
      "Start running at  x: 1.0000061 log(x)^2: 3.6962208e-11\n",
      "Start running at  x: 0.99999756 log(x)^2: 5.972126e-12\n",
      "Start running at  x: 1.000001 log(x)^2: 9.0949383e-13\n",
      "Start running at  x: 0.99999964 log(x)^2: 1.2789773e-13\n",
      "Start running at  x: 1.0000001 log(x)^2: 1.4210853e-14\n",
      "Start running at  x: 0.99999994 log(x)^2: 3.5527137e-15\n",
      "Start running at  x: 1.0 log(x)^2: 0.0\n"
     ]
    }
   ],
   "source": [
    "# code to demonstrate loss functions, under the section of optimizers\n",
    "import tensorflow as tf\n",
    "tf.compat.v1.disable_eager_execution() # need to disable eager in TF2.x\n",
    "#sess = tf.compat.v1.Session()\n",
    "\n",
    "#insert value into a variable\n",
    "x = tf.Variable(3, name='x', dtype='float32')\n",
    "log_x = tf.compat.v1.log(x)\n",
    "log_x_squared = tf.compat.v1.square(log_x)\n",
    "\n",
    "# apply the GradientDescentOptimizer\n",
    "optimizer = tf.compat.v1.train.GradientDescentOptimizer(0.7)\n",
    "train = optimizer.minimize(log_x_squared)\n",
    "\n",
    "# initialize the variables\n",
    "init = tf.compat.v1.global_variables_initializer()\n",
    "\n",
    "# run the computation\n",
    "with tf.compat.v1.Session() as sess:\n",
    "    sess.run(init)\n",
    "    print(\"Start running at \", \"x:\", sess.run(x), \"log(x)^2:\", sess.run(log_x_squared))\n",
    "    for step in range(20):\n",
    "        sess.run(train)\n",
    "        print(\"Start running at \", \"x:\", sess.run(x), \"log(x)^2:\", sess.run(log_x_squared))"
   ]
  }
 ],
 "metadata": {
  "kernelspec": {
   "display_name": "Python 3",
   "language": "python",
   "name": "python3"
  },
  "language_info": {
   "codemirror_mode": {
    "name": "ipython",
    "version": 3
   },
   "file_extension": ".py",
   "mimetype": "text/x-python",
   "name": "python",
   "nbconvert_exporter": "python",
   "pygments_lexer": "ipython3",
   "version": "3.11.4"
  },
  "orig_nbformat": 4
 },
 "nbformat": 4,
 "nbformat_minor": 2
}
