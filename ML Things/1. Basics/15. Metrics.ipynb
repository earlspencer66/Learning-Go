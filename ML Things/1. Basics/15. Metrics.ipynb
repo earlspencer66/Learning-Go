{
 "cells": [
  {
   "cell_type": "code",
   "execution_count": 30,
   "metadata": {},
   "outputs": [
    {
     "name": "stdout",
     "output_type": "stream",
     "text": [
      "0.4\n"
     ]
    }
   ],
   "source": [
    "# evaluation metrics include: classification accuracy, logarithmic loss\n",
    "# area under ROC Curve\n",
    "# Classification accuracy - ratio of number of correct predictions to all predictions\n",
    "# code to demonstrate metrics\n",
    "# actual values, call them x\n",
    "# predicted values, call them y\n",
    "# list of common metrics given\n",
    "import tensorflow as tf\n",
    "import numpy as np\n",
    "tf.compat.v1.disable_eager_execution() # need to disable eager in TF2.x\n",
    "sess = tf.compat.v1.Session()\n",
    "\n",
    "# placeholders declaration\n",
    "x = tf.compat.v1.placeholder(tf.int32, [5])\n",
    "y = tf.compat.v1.placeholder(tf.int32, [5])\n",
    "\n",
    "#metrices declaration\n",
    "acc, acc_op = tf.compat.v1.metrics.accuracy(labels=x, predictions=y)\n",
    "\n",
    "# session initialization\n",
    "sess =tf.compat.v1.InteractiveSession()\n",
    "sess.run(tf.compat.v1.global_variables_initializer())\n",
    "sess.run(tf.compat.v1.local_variables_initializer())\n",
    "\n",
    "# assign values to the placeholders\n",
    "val = sess.run([acc, acc_op], feed_dict={x: [1,1,0,1,0], y: [0,1,0,0,1]})\n",
    "\n",
    "# print accuracy\n",
    "val_acc = sess.run(acc)\n",
    "print(val_acc)"
   ]
  }
 ],
 "metadata": {
  "kernelspec": {
   "display_name": "Python 3",
   "language": "python",
   "name": "python3"
  },
  "language_info": {
   "codemirror_mode": {
    "name": "ipython",
    "version": 3
   },
   "file_extension": ".py",
   "mimetype": "text/x-python",
   "name": "python",
   "nbconvert_exporter": "python",
   "pygments_lexer": "ipython3",
   "version": "3.11.4"
  },
  "orig_nbformat": 4
 },
 "nbformat": 4,
 "nbformat_minor": 2
}
