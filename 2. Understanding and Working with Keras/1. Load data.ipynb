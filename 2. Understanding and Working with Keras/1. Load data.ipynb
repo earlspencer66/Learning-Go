{
 "cells": [
  {
   "cell_type": "code",
   "execution_count": 23,
   "metadata": {},
   "outputs": [
    {
     "name": "stdout",
     "output_type": "stream",
     "text": [
      "Downloading data from https://www.cs.toronto.edu/~kriz/cifar-10-python.tar.gz\n"
     ]
    },
    {
     "name": "stdout",
     "output_type": "stream",
     "text": [
      "170498071/170498071 [==============================] - 133s 1us/step\n"
     ]
    }
   ],
   "source": [
    "# First step in the deep learning process with Keras\n",
    "# Load the data\n",
    "# Code demonstration\n",
    "import numpy as np\n",
    "import os\n",
    "from keras.datasets import cifar10\n",
    "from keras.models import Sequential\n",
    "#from keras.layers.layers import Dense, Dropout, Activation\n",
    "from keras.layers import Dense, Dropout, Activation\n",
    "\n",
    "# Load data\n",
    "np.random.seed(100) # for reproducibility\n",
    "(X_train, y_train), (X_test, y_test) = cifar10.load_data()\n",
    "\n",
    "# cifar10 has images of various objects and animals\n",
    "# for each image, width = 32, height = 32, number of channels(RGB) = 3"
   ]
  }
 ],
 "metadata": {
  "kernelspec": {
   "display_name": "Python 3",
   "language": "python",
   "name": "python3"
  },
  "language_info": {
   "codemirror_mode": {
    "name": "ipython",
    "version": 3
   },
   "file_extension": ".py",
   "mimetype": "text/x-python",
   "name": "python",
   "nbconvert_exporter": "python",
   "pygments_lexer": "ipython3",
   "version": "3.11.4"
  },
  "orig_nbformat": 4
 },
 "nbformat": 4,
 "nbformat_minor": 2
}
