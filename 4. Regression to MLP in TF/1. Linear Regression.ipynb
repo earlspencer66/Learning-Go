{
 "cells": [
  {
   "cell_type": "code",
   "execution_count": 25,
   "metadata": {},
   "outputs": [],
   "source": [
    "# linear regression to predict petal length given the sepal length\n",
    "# sepal length --- input ---- X\n",
    "# petal length --- output ---- Y\n",
    "import matplotlib.pyplot as plt\n",
    "import tensorflow as tf\n",
    "from sklearn import datasets\n",
    "import numpy as np\n",
    "from sklearn.model_selection import train_test_split\n",
    "from matplotlib import pyplot\n",
    "\n",
    "# 1, Load the data\n",
    "# We are using the Iris dataset\n",
    "# iris.data = [(Sepal Length, Sepal Width, Petal Length, Petal Width)]\n",
    "iris = datasets.load_iris()\n",
    "\n",
    "predictors_vals = np.array([predictos[0]] for predictors in iris.data)\n",
    "target_vals = np.array([predictors[2]] for predictors in iris.data)\n",
    "\n",
    "# 2. Split data into test and train 80% - 20%\n",
    "# splits a dataset into training and test sets with a test size of 20%\n",
    "X, y = tf.keras.datasets.mnist.load_data()\n",
    "\n",
    "X_train, X_test, y_train, y_test = train_test_split(X, y, test_size=0.2)\n",
    "\n",
    "# 3. Normalize if needed\n",
    "\n",
    "# 4. Initialize placeholders that will contain predictors and target\n"
   ]
  }
 ],
 "metadata": {
  "kernelspec": {
   "display_name": "Python 3",
   "language": "python",
   "name": "python3"
  },
  "language_info": {
   "codemirror_mode": {
    "name": "ipython",
    "version": 3
   },
   "file_extension": ".py",
   "mimetype": "text/x-python",
   "name": "python",
   "nbconvert_exporter": "python",
   "pygments_lexer": "ipython3",
   "version": "3.11.4"
  },
  "orig_nbformat": 4
 },
 "nbformat": 4,
 "nbformat_minor": 2
}
