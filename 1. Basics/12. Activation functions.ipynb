{
 "cells": [
  {
   "cell_type": "code",
   "execution_count": 1,
   "metadata": {},
   "outputs": [
    {
     "name": "stdout",
     "output_type": "stream",
     "text": [
      "[ 0  1  0 13]\n"
     ]
    }
   ],
   "source": [
    "# ReLu and ELU\n",
    "# ReLU (x) = max (0, x)\n",
    "import tensorflow as tf\n",
    "tf.compat.v1.disable_eager_execution() # need to disable eager in TF2.x\n",
    "sess = tf.compat.v1.Session()\n",
    "\n",
    "A = tf.compat.v1.nn.relu([-2, 1, -3, 13])\n",
    "print(sess.run(A))"
   ]
  },
  {
   "cell_type": "code",
   "execution_count": 2,
   "metadata": {},
   "outputs": [
    {
     "name": "stdout",
     "output_type": "stream",
     "text": [
      "[0 1 0 6]\n"
     ]
    }
   ],
   "source": [
    "# ReLU6\n",
    "# similar to ReLU only that the result cannot be more than 6 ever\n",
    "B = tf.compat.v1.nn.relu6([-2,1,-3,13])\n",
    "print(sess.run(B))"
   ]
  },
  {
   "cell_type": "code",
   "execution_count": 3,
   "metadata": {},
   "outputs": [
    {
     "name": "stdout",
     "output_type": "stream",
     "text": [
      "[[ 0  1  0]\n",
      " [10  0  0]]\n"
     ]
    }
   ],
   "source": [
    "C = tf.compat.v1.nn.relu([[-2, 1, -3], [10, -16, -6]])\n",
    "print(sess.run(C))"
   ]
  },
  {
   "cell_type": "code",
   "execution_count": 4,
   "metadata": {},
   "outputs": [
    {
     "name": "stdout",
     "output_type": "stream",
     "text": [
      "[ 1.          2.          0.         -0.86466473 -0.95021296]\n"
     ]
    }
   ],
   "source": [
    "# ELU (x) = e^x - 1 if x < 0\n",
    "# ELU (x) = x if x>=0\n",
    "D = tf.compat.v1.nn.elu([1.0, 2.0, 0, -2, -3])\n",
    "print(sess.run(D))"
   ]
  },
  {
   "cell_type": "code",
   "execution_count": 5,
   "metadata": {},
   "outputs": [
    {
     "name": "stdout",
     "output_type": "stream",
     "text": [
      "[1.3132616 2.126928  0.6931472]\n"
     ]
    }
   ],
   "source": [
    "# softplus (x) = log(exp(x) +1)\n",
    "E = tf.compat.v1.nn.softplus([1.0, 2, 0])\n",
    "print(sess.run(E))"
   ]
  },
  {
   "cell_type": "code",
   "execution_count": 6,
   "metadata": {},
   "outputs": [
    {
     "name": "stdout",
     "output_type": "stream",
     "text": [
      "[0.5        0.6666667  0.         0.90909094]\n"
     ]
    }
   ],
   "source": [
    "# softsign computes  features/(abs(features) + 1)\n",
    "F = tf.compat.v1.nn.softsign([1.0, 2, 0, 10])\n",
    "print(sess.run(F))"
   ]
  }
 ],
 "metadata": {
  "kernelspec": {
   "display_name": "Python 3",
   "language": "python",
   "name": "python3"
  },
  "language_info": {
   "codemirror_mode": {
    "name": "ipython",
    "version": 3
   },
   "file_extension": ".py",
   "mimetype": "text/x-python",
   "name": "python",
   "nbconvert_exporter": "python",
   "pygments_lexer": "ipython3",
   "version": "3.11.4"
  },
  "orig_nbformat": 4
 },
 "nbformat": 4,
 "nbformat_minor": 2
}
