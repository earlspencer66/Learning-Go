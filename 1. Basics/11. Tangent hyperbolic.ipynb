{
 "cells": [
  {
   "cell_type": "code",
   "execution_count": 1,
   "metadata": {},
   "outputs": [
    {
     "name": "stdout",
     "output_type": "stream",
     "text": [
      "[ 1.          0.9640276   0.7615942   0.46211717  0.         -0.46211717\n",
      " -0.7615942  -0.9640276  -1.        ]\n"
     ]
    }
   ],
   "source": [
    "# demonstration code for tangent hyperbolic - hyperbolic function\n",
    "import tensorflow as tf\n",
    "tf.compat.v1.disable_eager_execution() # need to disable eager in TF2.x\n",
    "sess = tf.compat.v1.Session()\n",
    "\n",
    "E = tf.compat.v1.nn.tanh([10,2,1,0.5,0, -0.5, -1.0,-2,-10])\n",
    "print(sess.run(E))"
   ]
  },
  {
   "cell_type": "code",
   "execution_count": 2,
   "metadata": {},
   "outputs": [
    {
     "name": "stdout",
     "output_type": "stream",
     "text": [
      "[9.9995458e-01 8.8079709e-01 7.3105860e-01 6.2245935e-01 5.0000000e-01\n",
      " 3.7754068e-01 2.6894143e-01 1.1920292e-01 4.5397868e-05]\n"
     ]
    }
   ],
   "source": [
    "# demonstration for sigmoid\n",
    "F = tf.compat.v1.nn.sigmoid([10,2,1,0.5,0, -0.5, -1.0,-2,-10])\n",
    "print(sess.run(F))"
   ]
  }
 ],
 "metadata": {
  "kernelspec": {
   "display_name": "Python 3",
   "language": "python",
   "name": "python3"
  },
  "language_info": {
   "codemirror_mode": {
    "name": "ipython",
    "version": 3
   },
   "file_extension": ".py",
   "mimetype": "text/x-python",
   "name": "python",
   "nbconvert_exporter": "python",
   "pygments_lexer": "ipython3",
   "version": "3.11.4"
  },
  "orig_nbformat": 4
 },
 "nbformat": 4,
 "nbformat_minor": 2
}
