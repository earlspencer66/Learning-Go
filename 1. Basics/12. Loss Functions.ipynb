{
 "cells": [
  {
   "cell_type": "code",
   "execution_count": 13,
   "metadata": {},
   "outputs": [
    {
     "name": "stdout",
     "output_type": "stream",
     "text": [
      "[0. 0. 0. 1. 1. 1. 0. 0. 0. 0.]\n"
     ]
    }
   ],
   "source": [
    "# code to demonstrate loss function\n",
    "import tensorflow as tf\n",
    "import numpy as np\n",
    "sess = tf.compat.v1.Session()\n",
    "tf.compat.v1.disable_eager_execution() # need to disable eager in TF2.x\n",
    "\n",
    "# assume prediction model\n",
    "pred_model = np.asarray([0.2,0.3,0.5, 10.0, 12.0, 13.0, 3.5, 7.4, 3.9, 2.3])\n",
    "# convert array into a tensor\n",
    "x_val = tf.convert_to_tensor(pred_model)\n",
    "# assuming actual vlaues\n",
    "actual = np.asarray([0.1, 0.4, 0.6, 9.0,11.0, 12.0, 3.4, 7.1, 3.8, 2.0])\n",
    "\n",
    "# L2 loss: L1= (pred-actual)^2\n",
    "l2 = tf.compat.v1.square(pred_model-actual)\n",
    "l2_out = sess.run(tf.round(l2))\n",
    "print(l2_out)"
   ]
  },
  {
   "cell_type": "code",
   "execution_count": 16,
   "metadata": {},
   "outputs": [
    {
     "name": "stdout",
     "output_type": "stream",
     "text": [
      "[0. 0. 0. 1. 1. 1. 0. 0. 0. 0.]\n"
     ]
    }
   ],
   "source": [
    "#L2 loss: L1= abs(pred_model - actual)\n",
    "l1 = tf.abs(pred_model - actual)\n",
    "l1_out = sess.run(tf.round(l1))\n",
    "print(l1_out)"
   ]
  },
  {
   "cell_type": "code",
   "execution_count": 18,
   "metadata": {},
   "outputs": [
    {
     "name": "stdout",
     "output_type": "stream",
     "text": [
      "[0.69314718 0.69314718 0.69314718 0.31326169 0.31326169 0.31326169\n",
      " 0.69314718 0.69314718 0.69314718 0.69314718]\n"
     ]
    }
   ],
   "source": [
    "# cross entropy loss\n",
    "softmax_xentropy_variable = tf.nn.sigmoid_cross_entropy_with_logits(logits= l1_out, labels= l2_out)\n",
    "print(sess.run(softmax_xentropy_variable))"
   ]
  }
 ],
 "metadata": {
  "kernelspec": {
   "display_name": "Python 3",
   "language": "python",
   "name": "python3"
  },
  "language_info": {
   "codemirror_mode": {
    "name": "ipython",
    "version": 3
   },
   "file_extension": ".py",
   "mimetype": "text/x-python",
   "name": "python",
   "nbconvert_exporter": "python",
   "pygments_lexer": "ipython3",
   "version": "3.10.0"
  },
  "orig_nbformat": 4
 },
 "nbformat": 4,
 "nbformat_minor": 2
}
