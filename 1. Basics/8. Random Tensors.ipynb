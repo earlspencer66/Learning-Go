{
 "cells": [
  {
   "cell_type": "code",
   "execution_count": 7,
   "metadata": {},
   "outputs": [
    {
     "name": "stdout",
     "output_type": "stream",
     "text": [
      "[[ 3.3039522 11.129231  12.456446 ]\n",
      " [14.460659  19.848629   8.295748 ]]\n"
     ]
    }
   ],
   "source": [
    "# tf.random_uniform generates random values from uniform distribution\n",
    "#within a range.\n",
    "\n",
    "import tensorflow as tf\n",
    "tf.compat.v1.disable_eager_execution() # need to disable eager in TF2.x\n",
    "\n",
    "sess = tf.compat.v1.Session()\n",
    "\n",
    "R1 = tf.compat.v1.random_uniform([2,3], minval=0, maxval=20)\n",
    "print(sess.run(R1))\n"
   ]
  },
  {
   "cell_type": "code",
   "execution_count": 8,
   "metadata": {},
   "outputs": [
    {
     "name": "stdout",
     "output_type": "stream",
     "text": [
      "[[ 3.0872412  2.6587055  6.6784525]\n",
      " [ 3.7432685 10.753193   3.4737337]]\n"
     ]
    }
   ],
   "source": [
    "# tf.random_normal generates random values from the normal\n",
    "# distribution having the specified mean and standard deviation.\n",
    "R2 = tf.compat.v1.random_normal([2,3], mean=5, stddev=4)\n",
    "print(sess.run(R2))"
   ]
  },
  {
   "cell_type": "code",
   "execution_count": 19,
   "metadata": {},
   "outputs": [
    {
     "name": "stdout",
     "output_type": "stream",
     "text": [
      "[[3 0 0]\n",
      " [0 2 0]\n",
      " [0 0 1]]\n"
     ]
    }
   ],
   "source": [
    "# tf.random_shuffle helps us to shuffle the values in the tensor each time\n",
    "R3 = tf.compat.v1.random_shuffle(tf.compat.v1.diag([3,2,1]))\n",
    "print(sess.run(R3))"
   ]
  },
  {
   "cell_type": "code",
   "execution_count": 25,
   "metadata": {},
   "outputs": [
    {
     "name": "stdout",
     "output_type": "stream",
     "text": [
      "[[0 0 1]\n",
      " [3 0 0]\n",
      " [0 2 0]]\n"
     ]
    }
   ],
   "source": [
    "# tf.crop\n",
    "R4 = tf.compat.v1.random_crop(tf.compat.v1.diag([3,-2,1]), [3,2])\n",
    "print(sess.run(R3))"
   ]
  }
 ],
 "metadata": {
  "kernelspec": {
   "display_name": "Python 3",
   "language": "python",
   "name": "python3"
  },
  "language_info": {
   "codemirror_mode": {
    "name": "ipython",
    "version": 3
   },
   "file_extension": ".py",
   "mimetype": "text/x-python",
   "name": "python",
   "nbconvert_exporter": "python",
   "pygments_lexer": "ipython3",
   "version": "3.10.0"
  },
  "orig_nbformat": 4
 },
 "nbformat": 4,
 "nbformat_minor": 2
}
